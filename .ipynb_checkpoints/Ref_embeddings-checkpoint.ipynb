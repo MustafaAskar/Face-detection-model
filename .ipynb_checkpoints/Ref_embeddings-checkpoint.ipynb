{
 "cells": [
  {
   "cell_type": "code",
   "execution_count": 3,
   "metadata": {
    "id": "ouWkwFFWB_A8"
   },
   "outputs": [],
   "source": [
    "#import libraries\n",
    "import tensorflow as tf\n",
    "#import mtcnn\n",
    "import numpy as np\n",
    "import cv2\n",
    "import copy\n",
    "import PIL\n",
    "import pickle\n",
    "from scipy import stats"
   ]
  },
  {
   "cell_type": "code",
   "execution_count": 9,
   "metadata": {
    "id": "hgzH8wt9CHPi"
   },
   "outputs": [],
   "source": [
    "#cropping using Caffe model and OpenCV DNN\n",
    "faces_cropped=[]\n",
    "\n",
    "#load trained model\n",
    "modelFile = \"res10_300x300_ssd_iter_140000.caffemodel\"\n",
    "configFile = \"deploy.prototxt.txt\"\n",
    "net = cv2.dnn.readNetFromCaffe(configFile, modelFile)\n",
    "\n",
    "#load image\n",
    "img = cv2.imread('image4.jpg')\n",
    "image_np=np.asarray(img)\n",
    "\n",
    "#keep the original height and width, Caffe model require resizing to 300*300\n",
    "h, w = img.shape[:2]\n",
    "blob = cv2.dnn.blobFromImage(cv2.resize(img, (300, 300)), 1.0,\n",
    "(300, 300), (104.0, 117.0, 123.0))\n",
    "\n",
    "#path the image to the model\n",
    "net.setInput(blob)\n",
    "\n",
    "#extract\n",
    "faces = net.forward()\n",
    "\n",
    "#crop faces from the image\n",
    "for i in range(faces.shape[2]):\n",
    "        confidence = faces[0, 0, i, 2]\n",
    "        if confidence > 0.5:\n",
    "            box = faces[0, 0, i, 3:7] * np.array([w, h, w, h])\n",
    "            (x, y, x1, y1) = box.astype(\"int\")\n",
    "            faces_cropped.append(image_np[y:y1,x:x1])\n"
   ]
  },
  {
   "cell_type": "code",
   "execution_count": 11,
   "metadata": {
    "colab": {
     "base_uri": "https://localhost:8080/"
    },
    "id": "pac4ZWkcChmw",
    "outputId": "199a2407-1320-4100-b07f-d4d8e270057c"
   },
   "outputs": [],
   "source": [
    "#load FaceNet model\n",
    "FaceNet=tf.keras.models.load_model('facenet_keras.h5',compile=False)"
   ]
  },
  {
   "cell_type": "code",
   "execution_count": 12,
   "metadata": {
    "id": "f2nQ7NjMCk_g"
   },
   "outputs": [],
   "source": [
    "#preprocess the image\n",
    "#resize\n",
    "for i in range(len(faces_cropped)):\n",
    "    faces_cropped[i]=PIL.Image.fromarray((faces_cropped[i]*255).astype(np.uint8))\n",
    "    faces_cropped[i]=faces_cropped[i].resize((160,160))\n",
    "    faces_cropped[i]=np.asarray(faces_cropped[i])\n",
    "\n",
    "    #cast as float\n",
    "    faces_cropped[i]=faces_cropped[i].astype('float32')\n",
    "\n",
    "    #standraliztion\n",
    "    faces_cropped[i]=stats.zscore(faces_cropped[i],axis=None)\n",
    "\n",
    "    #expand batch dimension so tensorflow can accept it\n",
    "    faces_cropped[i]=np.expand_dims(faces_cropped[i],axis=0)"
   ]
  },
  {
   "cell_type": "code",
   "execution_count": 13,
   "metadata": {
    "id": "7Q9dNSM0CnB1"
   },
   "outputs": [],
   "source": [
    "#predict the embeddings\n",
    "embeddings=[]\n",
    "for current_face in faces_cropped:\n",
    "    results=FaceNet.predict(current_face)\n",
    "    embeddings.append(results)\n",
    "\n",
    "#creat dictionary with names\n",
    "ref_embeddings_names={\n",
    "    0:'Mustafa'\n",
    "}"
   ]
  },
  {
   "cell_type": "code",
   "execution_count": 15,
   "metadata": {
    "id": "zsD_b9igC1xE"
   },
   "outputs": [],
   "source": [
    "#save the embeddings\n",
    "np.save('ref_embeddings',embeddings)\n",
    "\n",
    "with open('ref_embeddings_names.pkl', 'wb') as f:\n",
    "    pickle.dump(ref_embeddings_names, f)"
   ]
  },
  {
   "cell_type": "code",
   "execution_count": null,
   "metadata": {
    "id": "FSIuD9ODGeZ8"
   },
   "outputs": [],
   "source": []
  }
 ],
 "metadata": {
  "colab": {
   "collapsed_sections": [],
   "name": "Ref embeddings.ipynb",
   "provenance": []
  },
  "kernelspec": {
   "display_name": "Python 3 (ipykernel)",
   "language": "python",
   "name": "python3"
  },
  "language_info": {
   "codemirror_mode": {
    "name": "ipython",
    "version": 3
   },
   "file_extension": ".py",
   "mimetype": "text/x-python",
   "name": "python",
   "nbconvert_exporter": "python",
   "pygments_lexer": "ipython3",
   "version": "3.9.7"
  }
 },
 "nbformat": 4,
 "nbformat_minor": 1
}
