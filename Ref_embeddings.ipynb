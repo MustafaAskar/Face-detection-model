{
 "cells": [
  {
   "cell_type": "code",
   "execution_count": 16,
   "metadata": {
    "id": "ouWkwFFWB_A8"
   },
   "outputs": [],
   "source": [
    "#import libraries\n",
    "import tensorflow as tf\n",
    "import numpy as np\n",
    "import cv2\n",
    "import copy\n",
    "import PIL\n",
    "import pickle\n",
    "from scipy import stats\n",
    "import os\n",
    "import matplotlib.pyplot as plt\n",
    "################\n",
    "import numpy as np\n",
    "import os\n",
    "import matplotlib.pyplot as plt\n",
    "import cv2\n",
    "from sklearn.decomposition import PCA\n",
    "from mpl_toolkits.mplot3d import Axes3D\n",
    "from mpl_toolkits.mplot3d import proj3d\n",
    "from imageio import imread\n",
    "from skimage.transform import resize\n",
    "from scipy.spatial import distance\n",
    "from keras.models import load_model"
   ]
  },
  {
   "cell_type": "code",
   "execution_count": 17,
   "metadata": {
    "colab": {
     "base_uri": "https://localhost:8080/"
    },
    "id": "pac4ZWkcChmw",
    "outputId": "199a2407-1320-4100-b07f-d4d8e270057c"
   },
   "outputs": [],
   "source": [
    "#load FaceNet model\n",
    "FaceNet=tf.keras.models.load_model('facenet_keras.h5',compile=False)\n",
    "\n",
    "#load trained YOLO model\n",
    "cascade_path = 'haarcascade_frontalface_alt2.xml'\n",
    "\n",
    "#image size\n",
    "image_size=160"
   ]
  },
  {
   "cell_type": "code",
   "execution_count": 18,
   "metadata": {},
   "outputs": [],
   "source": [
    "def prewhiten(x):\n",
    "    if x.ndim == 4:\n",
    "        axis = (1, 2, 3)\n",
    "        size = x[0].size\n",
    "    elif x.ndim == 3:\n",
    "        axis = (0, 1, 2)\n",
    "        size = x.size\n",
    "    else:\n",
    "        raise ValueError('Dimension should be 3 or 4')\n",
    "\n",
    "    mean = np.mean(x, axis=axis, keepdims=True)\n",
    "    std = np.std(x, axis=axis, keepdims=True)\n",
    "    std_adj = np.maximum(std, 1.0/np.sqrt(size))\n",
    "    y = (x - mean) / std_adj\n",
    "    return y\n",
    "\n",
    "def l2_normalize(x, axis=-1, epsilon=1e-10):\n",
    "    output = x / np.sqrt(np.maximum(np.sum(np.square(x), axis=axis, keepdims=True), epsilon))\n",
    "    return output\n",
    "def load_and_align_images(filepaths, margin):\n",
    "    cascade = cv2.CascadeClassifier(cascade_path)\n",
    "    \n",
    "    aligned_images = []\n",
    "    for filepath in filepaths:\n",
    "        img = imread(filepath)\n",
    "\n",
    "        faces = cascade.detectMultiScale(img,\n",
    "                                         scaleFactor=1.1,\n",
    "                                         minNeighbors=3)\n",
    "        (x, y, w, h) = faces[0]\n",
    "        cropped = img[y-margin//2:y+h+margin//2,\n",
    "                      x-margin//2:x+w+margin//2, :]\n",
    "        aligned = resize(cropped, (image_size, image_size), mode='reflect')\n",
    "        aligned_images.append(aligned)\n",
    "            \n",
    "    return np.array(aligned_images)\n",
    "def calc_embs(filepaths, margin=10, batch_size=1):\n",
    "    aligned_images = prewhiten(load_and_align_images(filepaths, margin))\n",
    "    pd = []\n",
    "    for start in range(0, len(aligned_images), batch_size):\n",
    "        pd.append(FaceNet.predict_on_batch(aligned_images[start:start+batch_size]))\n",
    "    embs = l2_normalize(np.concatenate(pd))\n",
    "\n",
    "    return embs\n",
    "def calc_dist(img_name0, img_name1):\n",
    "    return distance.euclidean(data[img_name0]['emb'], data[img_name1]['emb'])\n",
    "\n",
    "def calc_dist_plot(img_name0, img_name1):\n",
    "    print(calc_dist(img_name0, img_name1))\n",
    "    plt.subplot(1, 2, 1)\n",
    "    plt.imshow(imread(data[img_name0]['image_filepath']))\n",
    "    plt.subplot(1, 2, 2)\n",
    "    plt.imshow(imread(data[img_name1]['image_filepath']))"
   ]
  },
  {
   "cell_type": "code",
   "execution_count": 19,
   "metadata": {},
   "outputs": [],
   "source": [
    "#load the image pathes\n",
    "images_path=os.listdir('ref images')"
   ]
  },
  {
   "cell_type": "code",
   "execution_count": 20,
   "metadata": {},
   "outputs": [],
   "source": [
    "embeddings=calc_embs(os.listdir('ref images'))"
   ]
  },
  {
   "cell_type": "code",
   "execution_count": 21,
   "metadata": {},
   "outputs": [
    {
     "name": "stdout",
     "output_type": "stream",
     "text": [
      "6\n",
      "(128,)\n"
     ]
    }
   ],
   "source": [
    "#sanitiy check\n",
    "print(len(embeddings))\n",
    "print(embeddings[0].shape)"
   ]
  },
  {
   "cell_type": "code",
   "execution_count": 22,
   "metadata": {
    "id": "7Q9dNSM0CnB1"
   },
   "outputs": [],
   "source": [
    "#creat dictionary with names\n",
    "ref_embeddings_names={\n",
    "    0:'Mustafa',\n",
    "    1:'Wael',\n",
    "    2:'Fawzy',\n",
    "    3:'Hesham',\n",
    "    4:'Sayed',\n",
    "    5:'Omar'\n",
    "}"
   ]
  },
  {
   "cell_type": "code",
   "execution_count": 23,
   "metadata": {
    "id": "zsD_b9igC1xE"
   },
   "outputs": [],
   "source": [
    "#save the embeddings\n",
    "np.save('ref_embeddings',embeddings)\n",
    "\n",
    "with open('ref_embeddings_names.pkl', 'wb') as f:\n",
    "    pickle.dump(ref_embeddings_names, f)"
   ]
  },
  {
   "cell_type": "code",
   "execution_count": 24,
   "metadata": {},
   "outputs": [
    {
     "name": "stdout",
     "output_type": "stream",
     "text": [
      "(128,)\n"
     ]
    }
   ],
   "source": [
    "print(embeddings[0].shape)"
   ]
  },
  {
   "cell_type": "code",
   "execution_count": null,
   "metadata": {},
   "outputs": [],
   "source": []
  }
 ],
 "metadata": {
  "colab": {
   "collapsed_sections": [],
   "name": "Ref embeddings.ipynb",
   "provenance": []
  },
  "kernelspec": {
   "display_name": "Python 3 (ipykernel)",
   "language": "python",
   "name": "python3"
  },
  "language_info": {
   "codemirror_mode": {
    "name": "ipython",
    "version": 3
   },
   "file_extension": ".py",
   "mimetype": "text/x-python",
   "name": "python",
   "nbconvert_exporter": "python",
   "pygments_lexer": "ipython3",
   "version": "3.9.7"
  }
 },
 "nbformat": 4,
 "nbformat_minor": 1
}
